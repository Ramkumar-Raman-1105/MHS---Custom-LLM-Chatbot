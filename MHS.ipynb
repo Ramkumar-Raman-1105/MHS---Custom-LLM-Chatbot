{
  "nbformat": 4,
  "nbformat_minor": 0,
  "metadata": {
    "colab": {
      "provenance": [],
      "gpuType": "T4"
    },
    "kernelspec": {
      "name": "python3",
      "display_name": "Python 3"
    },
    "language_info": {
      "name": "python"
    },
    "accelerator": "GPU"
  },
  "cells": [
    {
      "cell_type": "code",
      "execution_count": 22,
      "metadata": {
        "colab": {
          "base_uri": "https://localhost:8080/"
        },
        "id": "GRNw2FZDgDtj",
        "outputId": "83402ff4-8d2f-4533-9626-78b263d1c33b"
      },
      "outputs": [
        {
          "output_type": "stream",
          "name": "stdout",
          "text": [
            "Requirement already satisfied: openai in /usr/local/lib/python3.10/dist-packages (1.54.1)\n",
            "Requirement already satisfied: anyio<5,>=3.5.0 in /usr/local/lib/python3.10/dist-packages (from openai) (3.7.1)\n",
            "Requirement already satisfied: distro<2,>=1.7.0 in /usr/local/lib/python3.10/dist-packages (from openai) (1.9.0)\n",
            "Requirement already satisfied: httpx<1,>=0.23.0 in /usr/local/lib/python3.10/dist-packages (from openai) (0.27.2)\n",
            "Requirement already satisfied: jiter<1,>=0.4.0 in /usr/local/lib/python3.10/dist-packages (from openai) (0.6.1)\n",
            "Requirement already satisfied: pydantic<3,>=1.9.0 in /usr/local/lib/python3.10/dist-packages (from openai) (2.9.2)\n",
            "Requirement already satisfied: sniffio in /usr/local/lib/python3.10/dist-packages (from openai) (1.3.1)\n",
            "Requirement already satisfied: tqdm>4 in /usr/local/lib/python3.10/dist-packages (from openai) (4.66.6)\n",
            "Requirement already satisfied: typing-extensions<5,>=4.11 in /usr/local/lib/python3.10/dist-packages (from openai) (4.12.2)\n",
            "Requirement already satisfied: idna>=2.8 in /usr/local/lib/python3.10/dist-packages (from anyio<5,>=3.5.0->openai) (3.10)\n",
            "Requirement already satisfied: exceptiongroup in /usr/local/lib/python3.10/dist-packages (from anyio<5,>=3.5.0->openai) (1.2.2)\n",
            "Requirement already satisfied: certifi in /usr/local/lib/python3.10/dist-packages (from httpx<1,>=0.23.0->openai) (2024.8.30)\n",
            "Requirement already satisfied: httpcore==1.* in /usr/local/lib/python3.10/dist-packages (from httpx<1,>=0.23.0->openai) (1.0.6)\n",
            "Requirement already satisfied: h11<0.15,>=0.13 in /usr/local/lib/python3.10/dist-packages (from httpcore==1.*->httpx<1,>=0.23.0->openai) (0.14.0)\n",
            "Requirement already satisfied: annotated-types>=0.6.0 in /usr/local/lib/python3.10/dist-packages (from pydantic<3,>=1.9.0->openai) (0.7.0)\n",
            "Requirement already satisfied: pydantic-core==2.23.4 in /usr/local/lib/python3.10/dist-packages (from pydantic<3,>=1.9.0->openai) (2.23.4)\n",
            "Requirement already satisfied: openai in /usr/local/lib/python3.10/dist-packages (1.54.1)\n",
            "Requirement already satisfied: textblob in /usr/local/lib/python3.10/dist-packages (0.17.1)\n",
            "Requirement already satisfied: anyio<5,>=3.5.0 in /usr/local/lib/python3.10/dist-packages (from openai) (3.7.1)\n",
            "Requirement already satisfied: distro<2,>=1.7.0 in /usr/local/lib/python3.10/dist-packages (from openai) (1.9.0)\n",
            "Requirement already satisfied: httpx<1,>=0.23.0 in /usr/local/lib/python3.10/dist-packages (from openai) (0.27.2)\n",
            "Requirement already satisfied: jiter<1,>=0.4.0 in /usr/local/lib/python3.10/dist-packages (from openai) (0.6.1)\n",
            "Requirement already satisfied: pydantic<3,>=1.9.0 in /usr/local/lib/python3.10/dist-packages (from openai) (2.9.2)\n",
            "Requirement already satisfied: sniffio in /usr/local/lib/python3.10/dist-packages (from openai) (1.3.1)\n",
            "Requirement already satisfied: tqdm>4 in /usr/local/lib/python3.10/dist-packages (from openai) (4.66.6)\n",
            "Requirement already satisfied: typing-extensions<5,>=4.11 in /usr/local/lib/python3.10/dist-packages (from openai) (4.12.2)\n",
            "Requirement already satisfied: nltk>=3.1 in /usr/local/lib/python3.10/dist-packages (from textblob) (3.8.1)\n",
            "Requirement already satisfied: idna>=2.8 in /usr/local/lib/python3.10/dist-packages (from anyio<5,>=3.5.0->openai) (3.10)\n",
            "Requirement already satisfied: exceptiongroup in /usr/local/lib/python3.10/dist-packages (from anyio<5,>=3.5.0->openai) (1.2.2)\n",
            "Requirement already satisfied: certifi in /usr/local/lib/python3.10/dist-packages (from httpx<1,>=0.23.0->openai) (2024.8.30)\n",
            "Requirement already satisfied: httpcore==1.* in /usr/local/lib/python3.10/dist-packages (from httpx<1,>=0.23.0->openai) (1.0.6)\n",
            "Requirement already satisfied: h11<0.15,>=0.13 in /usr/local/lib/python3.10/dist-packages (from httpcore==1.*->httpx<1,>=0.23.0->openai) (0.14.0)\n",
            "Requirement already satisfied: click in /usr/local/lib/python3.10/dist-packages (from nltk>=3.1->textblob) (8.1.7)\n",
            "Requirement already satisfied: joblib in /usr/local/lib/python3.10/dist-packages (from nltk>=3.1->textblob) (1.4.2)\n",
            "Requirement already satisfied: regex>=2021.8.3 in /usr/local/lib/python3.10/dist-packages (from nltk>=3.1->textblob) (2024.9.11)\n",
            "Requirement already satisfied: annotated-types>=0.6.0 in /usr/local/lib/python3.10/dist-packages (from pydantic<3,>=1.9.0->openai) (0.7.0)\n",
            "Requirement already satisfied: pydantic-core==2.23.4 in /usr/local/lib/python3.10/dist-packages (from pydantic<3,>=1.9.0->openai) (2.23.4)\n",
            "Requirement already satisfied: openai in /usr/local/lib/python3.10/dist-packages (1.54.1)\n",
            "Requirement already satisfied: anyio<5,>=3.5.0 in /usr/local/lib/python3.10/dist-packages (from openai) (3.7.1)\n",
            "Requirement already satisfied: distro<2,>=1.7.0 in /usr/local/lib/python3.10/dist-packages (from openai) (1.9.0)\n",
            "Requirement already satisfied: httpx<1,>=0.23.0 in /usr/local/lib/python3.10/dist-packages (from openai) (0.27.2)\n",
            "Requirement already satisfied: jiter<1,>=0.4.0 in /usr/local/lib/python3.10/dist-packages (from openai) (0.6.1)\n",
            "Requirement already satisfied: pydantic<3,>=1.9.0 in /usr/local/lib/python3.10/dist-packages (from openai) (2.9.2)\n",
            "Requirement already satisfied: sniffio in /usr/local/lib/python3.10/dist-packages (from openai) (1.3.1)\n",
            "Requirement already satisfied: tqdm>4 in /usr/local/lib/python3.10/dist-packages (from openai) (4.66.6)\n",
            "Requirement already satisfied: typing-extensions<5,>=4.11 in /usr/local/lib/python3.10/dist-packages (from openai) (4.12.2)\n",
            "Requirement already satisfied: idna>=2.8 in /usr/local/lib/python3.10/dist-packages (from anyio<5,>=3.5.0->openai) (3.10)\n",
            "Requirement already satisfied: exceptiongroup in /usr/local/lib/python3.10/dist-packages (from anyio<5,>=3.5.0->openai) (1.2.2)\n",
            "Requirement already satisfied: certifi in /usr/local/lib/python3.10/dist-packages (from httpx<1,>=0.23.0->openai) (2024.8.30)\n",
            "Requirement already satisfied: httpcore==1.* in /usr/local/lib/python3.10/dist-packages (from httpx<1,>=0.23.0->openai) (1.0.6)\n",
            "Requirement already satisfied: h11<0.15,>=0.13 in /usr/local/lib/python3.10/dist-packages (from httpcore==1.*->httpx<1,>=0.23.0->openai) (0.14.0)\n",
            "Requirement already satisfied: annotated-types>=0.6.0 in /usr/local/lib/python3.10/dist-packages (from pydantic<3,>=1.9.0->openai) (0.7.0)\n",
            "Requirement already satisfied: pydantic-core==2.23.4 in /usr/local/lib/python3.10/dist-packages (from pydantic<3,>=1.9.0->openai) (2.23.4)\n"
          ]
        }
      ],
      "source": [
        "#Importing the necessary libraries\n",
        "import pandas as pd\n",
        "!pip install openai\n",
        "!pip install --upgrade openai\n",
        "import openai\n",
        "import re\n",
        "import random\n",
        "import requests\n",
        "import json"
      ]
    },
    {
      "cell_type": "code",
      "source": [
        "#Importing the dataset 1\n",
        "df1 = pd.read_csv('/content/Mental_Health_FAQ.csv')"
      ],
      "metadata": {
        "id": "up4D5O-wjd0d"
      },
      "execution_count": 2,
      "outputs": []
    },
    {
      "cell_type": "code",
      "source": [
        "#Size of the dataset 1\n",
        "df1.shape"
      ],
      "metadata": {
        "colab": {
          "base_uri": "https://localhost:8080/"
        },
        "id": "tgbqCUUfjpgz",
        "outputId": "9739e3fb-7f7e-4f8f-f37e-ee62ea1c9abe"
      },
      "execution_count": 3,
      "outputs": [
        {
          "output_type": "execute_result",
          "data": {
            "text/plain": [
              "(98, 3)"
            ]
          },
          "metadata": {},
          "execution_count": 3
        }
      ]
    },
    {
      "cell_type": "code",
      "source": [
        "#Columns of the dataset 1\n",
        "df1.columns"
      ],
      "metadata": {
        "colab": {
          "base_uri": "https://localhost:8080/"
        },
        "id": "G2TMEhCnjt1i",
        "outputId": "cc867a67-5eb6-4585-c9fa-c0b2f89cac00"
      },
      "execution_count": 4,
      "outputs": [
        {
          "output_type": "execute_result",
          "data": {
            "text/plain": [
              "Index(['Question_ID', 'Questions', 'Answers'], dtype='object')"
            ]
          },
          "metadata": {},
          "execution_count": 4
        }
      ]
    },
    {
      "cell_type": "code",
      "source": [
        "#Dropping the Question ID Column from dataset 1\n",
        "df1.drop('Question_ID', axis=1, inplace=True)"
      ],
      "metadata": {
        "id": "c1SxQDQpjzMv"
      },
      "execution_count": 5,
      "outputs": []
    },
    {
      "cell_type": "code",
      "source": [
        "#Checking for null values in dataset 1\n",
        "df1.isnull().sum()"
      ],
      "metadata": {
        "colab": {
          "base_uri": "https://localhost:8080/",
          "height": 146
        },
        "id": "_6JE9j7Vj8zz",
        "outputId": "f83dc2e7-bfb2-4d81-8855-c174a0c5d7ef"
      },
      "execution_count": 6,
      "outputs": [
        {
          "output_type": "execute_result",
          "data": {
            "text/plain": [
              "Questions    0\n",
              "Answers      0\n",
              "dtype: int64"
            ],
            "text/html": [
              "<div>\n",
              "<style scoped>\n",
              "    .dataframe tbody tr th:only-of-type {\n",
              "        vertical-align: middle;\n",
              "    }\n",
              "\n",
              "    .dataframe tbody tr th {\n",
              "        vertical-align: top;\n",
              "    }\n",
              "\n",
              "    .dataframe thead th {\n",
              "        text-align: right;\n",
              "    }\n",
              "</style>\n",
              "<table border=\"1\" class=\"dataframe\">\n",
              "  <thead>\n",
              "    <tr style=\"text-align: right;\">\n",
              "      <th></th>\n",
              "      <th>0</th>\n",
              "    </tr>\n",
              "  </thead>\n",
              "  <tbody>\n",
              "    <tr>\n",
              "      <th>Questions</th>\n",
              "      <td>0</td>\n",
              "    </tr>\n",
              "    <tr>\n",
              "      <th>Answers</th>\n",
              "      <td>0</td>\n",
              "    </tr>\n",
              "  </tbody>\n",
              "</table>\n",
              "</div><br><label><b>dtype:</b> int64</label>"
            ]
          },
          "metadata": {},
          "execution_count": 6
        }
      ]
    },
    {
      "cell_type": "code",
      "source": [
        "#Importing the dataset 2\n",
        "df2 = pd.read_csv('/content/train.csv')"
      ],
      "metadata": {
        "id": "EjdGppDpkF5m"
      },
      "execution_count": 7,
      "outputs": []
    },
    {
      "cell_type": "code",
      "source": [
        "#Size of the dataset 2\n",
        "df2.shape"
      ],
      "metadata": {
        "colab": {
          "base_uri": "https://localhost:8080/"
        },
        "id": "zdnFZuWvkLxJ",
        "outputId": "faf3f90f-69bf-497c-9f13-d0f3e1263b43"
      },
      "execution_count": 8,
      "outputs": [
        {
          "output_type": "execute_result",
          "data": {
            "text/plain": [
              "(172, 1)"
            ]
          },
          "metadata": {},
          "execution_count": 8
        }
      ]
    },
    {
      "cell_type": "code",
      "source": [
        "#Columns of the dataset 2\n",
        "df2.columns"
      ],
      "metadata": {
        "colab": {
          "base_uri": "https://localhost:8080/"
        },
        "id": "5YCyANBUkR6_",
        "outputId": "2c7f3826-71fb-4f30-f910-3fda410a3f25"
      },
      "execution_count": 9,
      "outputs": [
        {
          "output_type": "execute_result",
          "data": {
            "text/plain": [
              "Index(['text'], dtype='object')"
            ]
          },
          "metadata": {},
          "execution_count": 9
        }
      ]
    },
    {
      "cell_type": "code",
      "source": [
        "#Checking for null values in dataset 2\n",
        "df2.isnull().sum()"
      ],
      "metadata": {
        "colab": {
          "base_uri": "https://localhost:8080/",
          "height": 115
        },
        "id": "SITW4Dw1kXxj",
        "outputId": "71a0b938-5f7e-48b3-b5f8-edb63520131f"
      },
      "execution_count": 10,
      "outputs": [
        {
          "output_type": "execute_result",
          "data": {
            "text/plain": [
              "text    0\n",
              "dtype: int64"
            ],
            "text/html": [
              "<div>\n",
              "<style scoped>\n",
              "    .dataframe tbody tr th:only-of-type {\n",
              "        vertical-align: middle;\n",
              "    }\n",
              "\n",
              "    .dataframe tbody tr th {\n",
              "        vertical-align: top;\n",
              "    }\n",
              "\n",
              "    .dataframe thead th {\n",
              "        text-align: right;\n",
              "    }\n",
              "</style>\n",
              "<table border=\"1\" class=\"dataframe\">\n",
              "  <thead>\n",
              "    <tr style=\"text-align: right;\">\n",
              "      <th></th>\n",
              "      <th>0</th>\n",
              "    </tr>\n",
              "  </thead>\n",
              "  <tbody>\n",
              "    <tr>\n",
              "      <th>text</th>\n",
              "      <td>0</td>\n",
              "    </tr>\n",
              "  </tbody>\n",
              "</table>\n",
              "</div><br><label><b>dtype:</b> int64</label>"
            ]
          },
          "metadata": {},
          "execution_count": 10
        }
      ]
    },
    {
      "cell_type": "code",
      "source": [
        "#Seperating the texts from the dataset 2 as Questions and Answers\n",
        "\n",
        "def split_qa(row):\n",
        "    human, assistant = row.split(\"<ASSISTANT>:\")\n",
        "    question = human.replace(\"<HUMAN>:\", \"\").strip()\n",
        "    answer = assistant.strip() if assistant else \"\"\n",
        "    return pd.Series([question, answer])\n",
        "\n",
        "df2[['Questions', 'Answers']] = df2['text'].apply(split_qa)\n"
      ],
      "metadata": {
        "id": "HYGE0Ytzkauk"
      },
      "execution_count": 11,
      "outputs": []
    },
    {
      "cell_type": "code",
      "source": [
        "#Dropping the text column from dataset 2\n",
        "df2.drop('text', axis=1, inplace=True)"
      ],
      "metadata": {
        "id": "IWEfqlvPldG_"
      },
      "execution_count": 12,
      "outputs": []
    },
    {
      "cell_type": "code",
      "source": [
        "#Size of the dataset 2\n",
        "df2.shape"
      ],
      "metadata": {
        "colab": {
          "base_uri": "https://localhost:8080/"
        },
        "id": "nfXpYrIxllE5",
        "outputId": "501c9005-81e1-4351-f69c-60e6cd20b60d"
      },
      "execution_count": 13,
      "outputs": [
        {
          "output_type": "execute_result",
          "data": {
            "text/plain": [
              "(172, 2)"
            ]
          },
          "metadata": {},
          "execution_count": 13
        }
      ]
    },
    {
      "cell_type": "code",
      "source": [
        "#Columns of the dataset 2\n",
        "df2.columns"
      ],
      "metadata": {
        "colab": {
          "base_uri": "https://localhost:8080/"
        },
        "id": "-KybBLWslpMU",
        "outputId": "a5094c14-ea6f-4b6f-8822-c48f9487206d"
      },
      "execution_count": 14,
      "outputs": [
        {
          "output_type": "execute_result",
          "data": {
            "text/plain": [
              "Index(['Questions', 'Answers'], dtype='object')"
            ]
          },
          "metadata": {},
          "execution_count": 14
        }
      ]
    },
    {
      "cell_type": "code",
      "source": [
        "#Merging the datasets\n",
        "MHS_data = pd.concat([df1, df2], ignore_index=True)"
      ],
      "metadata": {
        "id": "u6PUN3FWl6b_"
      },
      "execution_count": 15,
      "outputs": []
    },
    {
      "cell_type": "code",
      "source": [
        "#Size of the final dataset\n",
        "MHS_data.shape"
      ],
      "metadata": {
        "colab": {
          "base_uri": "https://localhost:8080/"
        },
        "id": "0bnLz1pMmJVF",
        "outputId": "948dd40e-f712-4613-a245-3bb3abdcfe95"
      },
      "execution_count": 16,
      "outputs": [
        {
          "output_type": "execute_result",
          "data": {
            "text/plain": [
              "(270, 2)"
            ]
          },
          "metadata": {},
          "execution_count": 16
        }
      ]
    },
    {
      "cell_type": "code",
      "source": [
        "#Columns of the final dataset\n",
        "MHS_data.columns"
      ],
      "metadata": {
        "colab": {
          "base_uri": "https://localhost:8080/"
        },
        "id": "2TnQRFrtmO63",
        "outputId": "997ac8fc-a667-4ec8-fced-768d8276c00e"
      },
      "execution_count": 17,
      "outputs": [
        {
          "output_type": "execute_result",
          "data": {
            "text/plain": [
              "Index(['Questions', 'Answers'], dtype='object')"
            ]
          },
          "metadata": {},
          "execution_count": 17
        }
      ]
    },
    {
      "cell_type": "code",
      "source": [
        "#Checking for null values\n",
        "MHS_data.isnull().sum()"
      ],
      "metadata": {
        "colab": {
          "base_uri": "https://localhost:8080/",
          "height": 146
        },
        "id": "Wxu_daNumTAm",
        "outputId": "d03e7567-3fc7-4903-eed3-641aaa402e75"
      },
      "execution_count": 18,
      "outputs": [
        {
          "output_type": "execute_result",
          "data": {
            "text/plain": [
              "Questions    0\n",
              "Answers      0\n",
              "dtype: int64"
            ],
            "text/html": [
              "<div>\n",
              "<style scoped>\n",
              "    .dataframe tbody tr th:only-of-type {\n",
              "        vertical-align: middle;\n",
              "    }\n",
              "\n",
              "    .dataframe tbody tr th {\n",
              "        vertical-align: top;\n",
              "    }\n",
              "\n",
              "    .dataframe thead th {\n",
              "        text-align: right;\n",
              "    }\n",
              "</style>\n",
              "<table border=\"1\" class=\"dataframe\">\n",
              "  <thead>\n",
              "    <tr style=\"text-align: right;\">\n",
              "      <th></th>\n",
              "      <th>0</th>\n",
              "    </tr>\n",
              "  </thead>\n",
              "  <tbody>\n",
              "    <tr>\n",
              "      <th>Questions</th>\n",
              "      <td>0</td>\n",
              "    </tr>\n",
              "    <tr>\n",
              "      <th>Answers</th>\n",
              "      <td>0</td>\n",
              "    </tr>\n",
              "  </tbody>\n",
              "</table>\n",
              "</div><br><label><b>dtype:</b> int64</label>"
            ]
          },
          "metadata": {},
          "execution_count": 18
        }
      ]
    },
    {
      "cell_type": "code",
      "source": [
        "#Sample data\n",
        "MHS_data.head()"
      ],
      "metadata": {
        "colab": {
          "base_uri": "https://localhost:8080/",
          "height": 206
        },
        "id": "R2Bc4gS81bhO",
        "outputId": "60654604-ce28-4711-9164-1ae3e87b61f4"
      },
      "execution_count": 20,
      "outputs": [
        {
          "output_type": "execute_result",
          "data": {
            "text/plain": [
              "                                           Questions  \\\n",
              "0        What does it mean to have a mental illness?   \n",
              "1                    Who does mental illness affect?   \n",
              "2                        What causes mental illness?   \n",
              "3  What are some of the warning signs of mental i...   \n",
              "4            Can people with mental illness recover?   \n",
              "\n",
              "                                             Answers  \n",
              "0  Mental illnesses are health conditions that di...  \n",
              "1  It is estimated that mental illness affects 1 ...  \n",
              "2  It is estimated that mental illness affects 1 ...  \n",
              "3  Symptoms of mental health disorders vary depen...  \n",
              "4  When healing from mental illness, early identi...  "
            ],
            "text/html": [
              "\n",
              "  <div id=\"df-fe89517e-74dc-4d40-921c-1f4564102461\" class=\"colab-df-container\">\n",
              "    <div>\n",
              "<style scoped>\n",
              "    .dataframe tbody tr th:only-of-type {\n",
              "        vertical-align: middle;\n",
              "    }\n",
              "\n",
              "    .dataframe tbody tr th {\n",
              "        vertical-align: top;\n",
              "    }\n",
              "\n",
              "    .dataframe thead th {\n",
              "        text-align: right;\n",
              "    }\n",
              "</style>\n",
              "<table border=\"1\" class=\"dataframe\">\n",
              "  <thead>\n",
              "    <tr style=\"text-align: right;\">\n",
              "      <th></th>\n",
              "      <th>Questions</th>\n",
              "      <th>Answers</th>\n",
              "    </tr>\n",
              "  </thead>\n",
              "  <tbody>\n",
              "    <tr>\n",
              "      <th>0</th>\n",
              "      <td>What does it mean to have a mental illness?</td>\n",
              "      <td>Mental illnesses are health conditions that di...</td>\n",
              "    </tr>\n",
              "    <tr>\n",
              "      <th>1</th>\n",
              "      <td>Who does mental illness affect?</td>\n",
              "      <td>It is estimated that mental illness affects 1 ...</td>\n",
              "    </tr>\n",
              "    <tr>\n",
              "      <th>2</th>\n",
              "      <td>What causes mental illness?</td>\n",
              "      <td>It is estimated that mental illness affects 1 ...</td>\n",
              "    </tr>\n",
              "    <tr>\n",
              "      <th>3</th>\n",
              "      <td>What are some of the warning signs of mental i...</td>\n",
              "      <td>Symptoms of mental health disorders vary depen...</td>\n",
              "    </tr>\n",
              "    <tr>\n",
              "      <th>4</th>\n",
              "      <td>Can people with mental illness recover?</td>\n",
              "      <td>When healing from mental illness, early identi...</td>\n",
              "    </tr>\n",
              "  </tbody>\n",
              "</table>\n",
              "</div>\n",
              "    <div class=\"colab-df-buttons\">\n",
              "\n",
              "  <div class=\"colab-df-container\">\n",
              "    <button class=\"colab-df-convert\" onclick=\"convertToInteractive('df-fe89517e-74dc-4d40-921c-1f4564102461')\"\n",
              "            title=\"Convert this dataframe to an interactive table.\"\n",
              "            style=\"display:none;\">\n",
              "\n",
              "  <svg xmlns=\"http://www.w3.org/2000/svg\" height=\"24px\" viewBox=\"0 -960 960 960\">\n",
              "    <path d=\"M120-120v-720h720v720H120Zm60-500h600v-160H180v160Zm220 220h160v-160H400v160Zm0 220h160v-160H400v160ZM180-400h160v-160H180v160Zm440 0h160v-160H620v160ZM180-180h160v-160H180v160Zm440 0h160v-160H620v160Z\"/>\n",
              "  </svg>\n",
              "    </button>\n",
              "\n",
              "  <style>\n",
              "    .colab-df-container {\n",
              "      display:flex;\n",
              "      gap: 12px;\n",
              "    }\n",
              "\n",
              "    .colab-df-convert {\n",
              "      background-color: #E8F0FE;\n",
              "      border: none;\n",
              "      border-radius: 50%;\n",
              "      cursor: pointer;\n",
              "      display: none;\n",
              "      fill: #1967D2;\n",
              "      height: 32px;\n",
              "      padding: 0 0 0 0;\n",
              "      width: 32px;\n",
              "    }\n",
              "\n",
              "    .colab-df-convert:hover {\n",
              "      background-color: #E2EBFA;\n",
              "      box-shadow: 0px 1px 2px rgba(60, 64, 67, 0.3), 0px 1px 3px 1px rgba(60, 64, 67, 0.15);\n",
              "      fill: #174EA6;\n",
              "    }\n",
              "\n",
              "    .colab-df-buttons div {\n",
              "      margin-bottom: 4px;\n",
              "    }\n",
              "\n",
              "    [theme=dark] .colab-df-convert {\n",
              "      background-color: #3B4455;\n",
              "      fill: #D2E3FC;\n",
              "    }\n",
              "\n",
              "    [theme=dark] .colab-df-convert:hover {\n",
              "      background-color: #434B5C;\n",
              "      box-shadow: 0px 1px 3px 1px rgba(0, 0, 0, 0.15);\n",
              "      filter: drop-shadow(0px 1px 2px rgba(0, 0, 0, 0.3));\n",
              "      fill: #FFFFFF;\n",
              "    }\n",
              "  </style>\n",
              "\n",
              "    <script>\n",
              "      const buttonEl =\n",
              "        document.querySelector('#df-fe89517e-74dc-4d40-921c-1f4564102461 button.colab-df-convert');\n",
              "      buttonEl.style.display =\n",
              "        google.colab.kernel.accessAllowed ? 'block' : 'none';\n",
              "\n",
              "      async function convertToInteractive(key) {\n",
              "        const element = document.querySelector('#df-fe89517e-74dc-4d40-921c-1f4564102461');\n",
              "        const dataTable =\n",
              "          await google.colab.kernel.invokeFunction('convertToInteractive',\n",
              "                                                    [key], {});\n",
              "        if (!dataTable) return;\n",
              "\n",
              "        const docLinkHtml = 'Like what you see? Visit the ' +\n",
              "          '<a target=\"_blank\" href=https://colab.research.google.com/notebooks/data_table.ipynb>data table notebook</a>'\n",
              "          + ' to learn more about interactive tables.';\n",
              "        element.innerHTML = '';\n",
              "        dataTable['output_type'] = 'display_data';\n",
              "        await google.colab.output.renderOutput(dataTable, element);\n",
              "        const docLink = document.createElement('div');\n",
              "        docLink.innerHTML = docLinkHtml;\n",
              "        element.appendChild(docLink);\n",
              "      }\n",
              "    </script>\n",
              "  </div>\n",
              "\n",
              "\n",
              "<div id=\"df-fcef5c93-c948-4869-b900-0aa65ec0ae00\">\n",
              "  <button class=\"colab-df-quickchart\" onclick=\"quickchart('df-fcef5c93-c948-4869-b900-0aa65ec0ae00')\"\n",
              "            title=\"Suggest charts\"\n",
              "            style=\"display:none;\">\n",
              "\n",
              "<svg xmlns=\"http://www.w3.org/2000/svg\" height=\"24px\"viewBox=\"0 0 24 24\"\n",
              "     width=\"24px\">\n",
              "    <g>\n",
              "        <path d=\"M19 3H5c-1.1 0-2 .9-2 2v14c0 1.1.9 2 2 2h14c1.1 0 2-.9 2-2V5c0-1.1-.9-2-2-2zM9 17H7v-7h2v7zm4 0h-2V7h2v10zm4 0h-2v-4h2v4z\"/>\n",
              "    </g>\n",
              "</svg>\n",
              "  </button>\n",
              "\n",
              "<style>\n",
              "  .colab-df-quickchart {\n",
              "      --bg-color: #E8F0FE;\n",
              "      --fill-color: #1967D2;\n",
              "      --hover-bg-color: #E2EBFA;\n",
              "      --hover-fill-color: #174EA6;\n",
              "      --disabled-fill-color: #AAA;\n",
              "      --disabled-bg-color: #DDD;\n",
              "  }\n",
              "\n",
              "  [theme=dark] .colab-df-quickchart {\n",
              "      --bg-color: #3B4455;\n",
              "      --fill-color: #D2E3FC;\n",
              "      --hover-bg-color: #434B5C;\n",
              "      --hover-fill-color: #FFFFFF;\n",
              "      --disabled-bg-color: #3B4455;\n",
              "      --disabled-fill-color: #666;\n",
              "  }\n",
              "\n",
              "  .colab-df-quickchart {\n",
              "    background-color: var(--bg-color);\n",
              "    border: none;\n",
              "    border-radius: 50%;\n",
              "    cursor: pointer;\n",
              "    display: none;\n",
              "    fill: var(--fill-color);\n",
              "    height: 32px;\n",
              "    padding: 0;\n",
              "    width: 32px;\n",
              "  }\n",
              "\n",
              "  .colab-df-quickchart:hover {\n",
              "    background-color: var(--hover-bg-color);\n",
              "    box-shadow: 0 1px 2px rgba(60, 64, 67, 0.3), 0 1px 3px 1px rgba(60, 64, 67, 0.15);\n",
              "    fill: var(--button-hover-fill-color);\n",
              "  }\n",
              "\n",
              "  .colab-df-quickchart-complete:disabled,\n",
              "  .colab-df-quickchart-complete:disabled:hover {\n",
              "    background-color: var(--disabled-bg-color);\n",
              "    fill: var(--disabled-fill-color);\n",
              "    box-shadow: none;\n",
              "  }\n",
              "\n",
              "  .colab-df-spinner {\n",
              "    border: 2px solid var(--fill-color);\n",
              "    border-color: transparent;\n",
              "    border-bottom-color: var(--fill-color);\n",
              "    animation:\n",
              "      spin 1s steps(1) infinite;\n",
              "  }\n",
              "\n",
              "  @keyframes spin {\n",
              "    0% {\n",
              "      border-color: transparent;\n",
              "      border-bottom-color: var(--fill-color);\n",
              "      border-left-color: var(--fill-color);\n",
              "    }\n",
              "    20% {\n",
              "      border-color: transparent;\n",
              "      border-left-color: var(--fill-color);\n",
              "      border-top-color: var(--fill-color);\n",
              "    }\n",
              "    30% {\n",
              "      border-color: transparent;\n",
              "      border-left-color: var(--fill-color);\n",
              "      border-top-color: var(--fill-color);\n",
              "      border-right-color: var(--fill-color);\n",
              "    }\n",
              "    40% {\n",
              "      border-color: transparent;\n",
              "      border-right-color: var(--fill-color);\n",
              "      border-top-color: var(--fill-color);\n",
              "    }\n",
              "    60% {\n",
              "      border-color: transparent;\n",
              "      border-right-color: var(--fill-color);\n",
              "    }\n",
              "    80% {\n",
              "      border-color: transparent;\n",
              "      border-right-color: var(--fill-color);\n",
              "      border-bottom-color: var(--fill-color);\n",
              "    }\n",
              "    90% {\n",
              "      border-color: transparent;\n",
              "      border-bottom-color: var(--fill-color);\n",
              "    }\n",
              "  }\n",
              "</style>\n",
              "\n",
              "  <script>\n",
              "    async function quickchart(key) {\n",
              "      const quickchartButtonEl =\n",
              "        document.querySelector('#' + key + ' button');\n",
              "      quickchartButtonEl.disabled = true;  // To prevent multiple clicks.\n",
              "      quickchartButtonEl.classList.add('colab-df-spinner');\n",
              "      try {\n",
              "        const charts = await google.colab.kernel.invokeFunction(\n",
              "            'suggestCharts', [key], {});\n",
              "      } catch (error) {\n",
              "        console.error('Error during call to suggestCharts:', error);\n",
              "      }\n",
              "      quickchartButtonEl.classList.remove('colab-df-spinner');\n",
              "      quickchartButtonEl.classList.add('colab-df-quickchart-complete');\n",
              "    }\n",
              "    (() => {\n",
              "      let quickchartButtonEl =\n",
              "        document.querySelector('#df-fcef5c93-c948-4869-b900-0aa65ec0ae00 button');\n",
              "      quickchartButtonEl.style.display =\n",
              "        google.colab.kernel.accessAllowed ? 'block' : 'none';\n",
              "    })();\n",
              "  </script>\n",
              "</div>\n",
              "\n",
              "    </div>\n",
              "  </div>\n"
            ],
            "application/vnd.google.colaboratory.intrinsic+json": {
              "type": "dataframe",
              "variable_name": "MHS_data",
              "summary": "{\n  \"name\": \"MHS_data\",\n  \"rows\": 270,\n  \"fields\": [\n    {\n      \"column\": \"Questions\",\n      \"properties\": {\n        \"dtype\": \"string\",\n        \"num_unique_values\": 253,\n        \"samples\": [\n          \"If I\\u2019m feeling suicidal, what should I do?\",\n          \"How can I find a mental health professional for myself or my child?\",\n          \"What is cyclothymic disorder?\"\n        ],\n        \"semantic_type\": \"\",\n        \"description\": \"\"\n      }\n    },\n    {\n      \"column\": \"Answers\",\n      \"properties\": {\n        \"dtype\": \"string\",\n        \"num_unique_values\": 270,\n        \"samples\": [\n          \"If your beliefs , thoughts , feelings or behaviours have a significant impact on your ability to function in what might be considered a normal or ordinary way, it would be important to seek help.\",\n          \"The family's role in identifying an addiction and in motivating the client to seek treatment is often essential. Their role continues throughout the treatment and recovery phase. If the client is very resistant to suggestions of seeing a specialist, a consultation can be offered to concerned relatives, in order to help them develop a better understanding of the situation and explore measures that can be implemented until the client is ready to engage with professionals.\",\n          \"Cyclothymic disorder is a subtype of bipolar disorder. Much like bipolar disorder, the symptoms of cyclothymia include three or more symptoms of hypomania, and five or more symptoms of depression. Like bipolar disorder, people may experience wellness between episodes of hypomania and depression. \\n Symptoms of hypomania include: \\n Symptoms of depression include: \\n Talk to a doctor or mental health professional if you think you might have cyclothymic disorder.\"\n        ],\n        \"semantic_type\": \"\",\n        \"description\": \"\"\n      }\n    }\n  ]\n}"
            }
          },
          "metadata": {},
          "execution_count": 20
        }
      ]
    },
    {
      "cell_type": "code",
      "source": [
        "# Before going to the chatbot process, lets get the API key for OpenAI\n",
        "file_path = '/content/GRS_API_Key.txt'\n",
        "\n",
        "# Read the API key from the file\n",
        "with open(file_path, 'r') as file:\n",
        "    openai.api_key = file.read().strip()\n",
        "\n",
        "print(f\"OpenAI API Key: {openai.api_key}\")"
      ],
      "metadata": {
        "id": "VBS615L3mX2F"
      },
      "execution_count": null,
      "outputs": []
    },
    {
      "cell_type": "code",
      "source": [
        "# Before going to the chatbot process, lets get the API key for TextRazor\n",
        "file_path = '/content/TR_API_Key.txt'\n",
        "\n",
        "# Read the API key from the file\n",
        "with open(file_path, 'r') as file:\n",
        "    tr_api_key = file.read().strip()\n",
        "\n",
        "print(f\"TextRazor API Key: {tr_api_key}\")"
      ],
      "metadata": {
        "id": "0EJsjEZ1mEzn"
      },
      "execution_count": null,
      "outputs": []
    },
    {
      "cell_type": "code",
      "source": [
        "#Downloading the final dataset\n",
        "MHS_data.to_csv('MHS_data.csv', index=False)"
      ],
      "metadata": {
        "id": "sNvqZEktqHeg"
      },
      "execution_count": 24,
      "outputs": []
    },
    {
      "cell_type": "code",
      "source": [
        "#Preparing the dataset for fine tuning\n",
        "system_content = (\n",
        "    \"You are a highly trained and compassionate mental health advisor with expertise in providing empathetic and supportive responses to individuals seeking help. \"\n",
        "    \"Your primary objective is to foster a safe and understanding environment for users to express their feelings, concerns, and questions related to mental health. \"\n",
        "    \"Approach each conversation with genuine kindness, active listening, and a non-judgmental attitude, ensuring that users feel heard and validated in their experiences. \"\n",
        "    \"In situations where users exhibit extreme emotions, such as overwhelming sadness, anxiety, or despair, respond with compassion and offer appropriate coping strategies. \"\n",
        "    \"Suggest grounding techniques, mindfulness practices, or breathing exercises that can help alleviate their distress. If a user articulates thoughts of self-harm or expresses feelings of hopelessness, prioritize their safety by encouraging them to talk to someone who can provide immediate support, such as a mental health professional or a crisis hotline. \"\n",
        "    \"When users appear to be in significant emotional distress or express feelings of isolation, gently encourage them to consider connecting with live support services or professionals who can offer further assistance. Always frame this suggestion as a positive step towards their well-being. \"\n",
        "    \"Make sure to respond to each inquiry with relevant and accurate information, guiding users toward understanding their feelings and circumstances without bias or shame. Provide educational resources, coping mechanisms, and tools that empower users to manage their mental health effectively. \"\n",
        "    \"Throughout the conversation, remain adaptable to the user’s needs, and tailor your responses based on their emotional state. Be mindful of the words you choose, ensuring they convey empathy and understanding. Always invite users to share more about their feelings and experiences, fostering a deeper connection and support. \"\n",
        "    \"End each interaction by checking in with users, asking if they feel satisfied with the conversation, and offering additional resources or suggestions for their mental health needs. Emphasize the importance of seeking help when needed and reassure them that they are not alone in their journey.\"\n",
        ")\n",
        "\n",
        "# Create a JSONL file with the required format\n",
        "jsonl_file_path = '/content/mental_health_faqs.jsonl'\n",
        "with open(jsonl_file_path, 'w') as jsonl_file:\n",
        "    for index, faq in MHS_data.iterrows():\n",
        "        json_entry = {\n",
        "            \"messages\": [\n",
        "                {\"role\": \"system\", \"content\": system_content},\n",
        "                {\"role\": \"user\", \"content\": faq[\"Questions\"]},\n",
        "                {\"role\": \"assistant\", \"content\": faq[\"Answers\"]}\n",
        "            ]\n",
        "        }\n",
        "        json_string = json.dumps(json_entry)\n",
        "        jsonl_file.write(f\"{json_string}\\n\")\n"
      ],
      "metadata": {
        "id": "FK4nrI4iqgCh"
      },
      "execution_count": 25,
      "outputs": []
    },
    {
      "cell_type": "code",
      "source": [
        "#Generating File\n",
        "client = openai.OpenAI(api_key=openai.api_key)\n",
        "with open('/content/mental_health_faqs.jsonl', 'rb') as file:\n",
        "    file_response = client.files.create(\n",
        "        file=file,\n",
        "        purpose='fine-tune'\n",
        "    )\n",
        "file_id = file_response.id\n",
        "print(f'File ID: {file_id}')"
      ],
      "metadata": {
        "id": "4X35Dc9K4Fq7"
      },
      "execution_count": null,
      "outputs": []
    },
    {
      "cell_type": "code",
      "source": [
        "#Fine tune response\n",
        "fine_tune_response  = client.fine_tuning.jobs.create(\n",
        "    training_file=file_id,\n",
        "    model=\"gpt-4o-mini-2024-07-18\"\n",
        ")"
      ],
      "metadata": {
        "id": "8ze0ULim4hCh"
      },
      "execution_count": 27,
      "outputs": []
    },
    {
      "cell_type": "code",
      "source": [
        "#Fine tune response object\n",
        "fine_tune_response"
      ],
      "metadata": {
        "id": "PBhsvLgU76oO"
      },
      "execution_count": null,
      "outputs": []
    },
    {
      "cell_type": "code",
      "source": [
        "#Getting job id\n",
        "fine_tune_id = fine_tune_response.id\n",
        "print(f'Fine-tune ID: {fine_tune_id}')"
      ],
      "metadata": {
        "id": "ejdUQlv68GJM"
      },
      "execution_count": null,
      "outputs": []
    },
    {
      "cell_type": "code",
      "source": [
        "#Monitor Fine Tuning\n",
        "response = client.fine_tuning.jobs.retrieve(fine_tune_id)\n",
        "print(response)"
      ],
      "metadata": {
        "id": "-TE7YZdq41Mg"
      },
      "execution_count": null,
      "outputs": []
    },
    {
      "cell_type": "code",
      "source": [
        "#Getting the fine tune model id\n",
        "fine_tuned_model_id = response.fine_tuned_model\n",
        "print(f'Fine-tuned model ID: {fine_tuned_model_id}')"
      ],
      "metadata": {
        "id": "rDoYZMBQ5Uzv"
      },
      "execution_count": null,
      "outputs": []
    },
    {
      "cell_type": "code",
      "source": [
        "# Define a list of keywords and phrases related to mental health FAQs\n",
        "faq_keywords = {\n",
        "    \"anxiety\": [\"what is anxiety\", \"signs of anxiety\", \"how to deal with anxiety\"],\n",
        "    \"stress\": [\"how to deal with stress\", \"stress management\", \"symptoms of stress\"],\n",
        "    \"depression\": [\"what are the signs of depression\", \"how to cope with depression\", \"depression symptoms\"],\n",
        "}\n",
        "#Categorise the user input\n",
        "def is_faq_query(user_input):\n",
        "    \"\"\"Check if the user input matches any of the FAQ keywords or phrases.\"\"\"\n",
        "    user_input_lower = user_input.lower()\n",
        "    for topic, phrases in faq_keywords.items():\n",
        "        for phrase in phrases:\n",
        "            if re.search(r'\\b' + re.escape(phrase) + r'\\b', user_input_lower):\n",
        "                return True, topic\n",
        "    return False, None"
      ],
      "metadata": {
        "id": "GRZPRHDLzK1P"
      },
      "execution_count": 45,
      "outputs": []
    },
    {
      "cell_type": "code",
      "source": [
        "#Sentiment Analysis\n",
        "def analyze_sentiment(user_input):\n",
        "    # Text Razor API URL\n",
        "    url = \"https://api.textrazor.com/\"\n",
        "\n",
        "    # Headers for the request, including your API key\n",
        "    headers = {\n",
        "        'x-textrazor-key': tr_api_key,\n",
        "        'Content-Type': 'application/json'\n",
        "    }\n",
        "\n",
        "    data = {\n",
        "        'text': user_input,\n",
        "        'extractors': 'sentiment'\n",
        "    }\n",
        "\n",
        "    # Make the POST request\n",
        "    response = requests.post(url, data=data, headers=headers)\n",
        "\n",
        "    # Parse the JSON response\n",
        "    result = response.json()\n",
        "\n",
        "    # Check if the request was successful and print the sentiment\n",
        "    if 'response' in result and 'sentiment' in result['response'] and 'score' in result['response']['sentiment']:\n",
        "        sentiment = result['response']['sentiment']['score']\n",
        "        return sentiment\n",
        "    else:\n",
        "        return 10"
      ],
      "metadata": {
        "id": "Av2_MMp5zRhw"
      },
      "execution_count": 61,
      "outputs": []
    },
    {
      "cell_type": "code",
      "source": [
        "#Suggest External Resources\n",
        "def suggest_resources():\n",
        "    \"\"\"Provide mental health resources specific to India.\"\"\"\n",
        "    resources = [\n",
        "        \"Here are some resources you might find helpful:\\n\"\n",
        "        \"1. Vandrevala Foundation Helpline: 1860 266 2345 / 9999 666 555 - A confidential helpline for emotional support.\",\n",
        "        \"2. AASRA: 91-22-2754 6669 - A 24-hour helpline for those in emotional distress.\",\n",
        "        \"3. iCall: +91 9152987821 - Offers free mental health support and counseling.\",\n",
        "        \"4. Snehi: +91 9582208181 - Provides emotional support for those in crisis.\",\n",
        "        \"5. The National Institute of Mental Health and Neuro Sciences (NIMHANS): https://nimhans.ac.in/ - Provides mental health services and research.\"\n",
        "        \"Thank you for chatting! Take care.\"\n",
        "    ]\n",
        "    return \"\\n\".join(resources)"
      ],
      "metadata": {
        "id": "U1eJFG4EzYGQ"
      },
      "execution_count": 63,
      "outputs": []
    },
    {
      "cell_type": "code",
      "source": [
        "#Chatbot Implementation\n",
        "def get_response(messages, use_faq_model=False):\n",
        "    \"\"\"Get response from OpenAI API using fine-tuned model or general model.\"\"\"\n",
        "    model = fine_tuned_model_id if use_faq_model else \"gpt-4o-mini\"\n",
        "\n",
        "    url = \"https://api.openai.com/v1/chat/completions\"\n",
        "    headers = {\n",
        "        \"Authorization\": f\"Bearer {openai.api_key}\",\n",
        "        \"Content-Type\": \"application/json\"\n",
        "    }\n",
        "    data = {\n",
        "        \"model\": model,\n",
        "        \"messages\": messages,\n",
        "        \"temperature\": 0.7,\n",
        "        \"max_tokens\": 150\n",
        "    }\n",
        "\n",
        "    try:\n",
        "        response = requests.post(url, headers=headers, json=data)\n",
        "        response.raise_for_status()\n",
        "        completion = response.json()\n",
        "        return completion['choices'][0]['message']['content']\n",
        "    except requests.exceptions.RequestException:\n",
        "        return \"I'm experiencing technical difficulties at the moment. Please try again later.\"\n",
        "\n",
        "\n",
        "\n",
        "\n",
        "# Define the initial prompt for the chatbot\n",
        "initial_prompt = (\n",
        "    \"You are a highly trained and compassionate mental health advisor with expertise in providing empathetic and supportive responses to individuals seeking help. \"\n",
        "    \"Your primary objective is to foster a safe and understanding environment for users to express their feelings, concerns, and questions related to mental health. \"\n",
        "    \"Approach each conversation with genuine kindness, active listening, and a non-judgmental attitude, ensuring that users feel heard and validated in their experiences. \"\n",
        "\n",
        "    \"In situations where users exhibit extreme emotions, such as overwhelming sadness, anxiety, or despair, respond with compassion and offer appropriate coping strategies. \"\n",
        "    \"Suggest grounding techniques, mindfulness practices, or breathing exercises that can help alleviate their distress. If a user articulates thoughts of self-harm or expresses feelings of hopelessness, prioritize their safety by encouraging them to talk to someone who can provide immediate support, such as a mental health professional or a crisis hotline. \"\n",
        "\n",
        "    \"When users appear to be in significant emotional distress or express feelings of isolation, gently encourage them to consider connecting with live support services or professionals who can offer further assistance. Always frame this suggestion as a positive step towards their well-being. \"\n",
        "\n",
        "    \"Make sure to respond to each inquiry with relevant and accurate information, guiding users toward understanding their feelings and circumstances without bias or shame. Provide educational resources, coping mechanisms, and tools that empower users to manage their mental health effectively. \"\n",
        "\n",
        "    \"Throughout the conversation, remain adaptable to the user’s needs, and tailor your responses based on their emotional state. Be mindful of the words you choose, ensuring they convey empathy and understanding. Always invite users to share more about their feelings and experiences, fostering a deeper connection and support. \"\n",
        "\n",
        "    \"End each interaction by checking in with users, asking if they feel satisfied with the conversation, and offering additional resources or suggestions for their mental health needs. Emphasize the importance of seeking help when needed and reassure them that they are not alone in their journey.\"\n",
        ")\n",
        "\n",
        "\n",
        "# Main chatbot loop\n",
        "messages = []\n",
        "print(\"Hey! I am your Mental Health Advisor. You can ask me questions about mental health and share your feelings.\")\n",
        "\n",
        "# Add the initial prompt to the message history\n",
        "messages.append({\"role\": \"system\", \"content\": initial_prompt})\n",
        "\n",
        "while True:\n",
        "    user_input = input(\"You: \")\n",
        "\n",
        "    if user_input.lower() == 'exit':\n",
        "        satisfied = input(\"Are you satisfied with the conversation? (yes/no): \")\n",
        "        if satisfied.lower() == 'yes':\n",
        "            additional_suggestion = input(\"Would you like me to suggest anything else? (yes/no): \")\n",
        "            if additional_suggestion.lower() == 'no':\n",
        "                print(\"Thank you for chatting! Take care.\")\n",
        "                break\n",
        "            else:\n",
        "                print(\"Sure, what else can I help you with?\")\n",
        "                continue\n",
        "        else:\n",
        "            print(\"I'm sorry to hear that. Please let me know how I can improve.\")\n",
        "            resources = suggest_resources()\n",
        "            print(resources)\n",
        "        break\n",
        "\n",
        "    messages.append({\"role\": \"user\", \"content\": user_input})\n",
        "\n",
        "    # Analyze sentiment to trigger specific responses\n",
        "    sentiment_score = analyze_sentiment(user_input)\n",
        "\n",
        "    if sentiment_score < -0.2:\n",
        "        bot_response = (\n",
        "            \"I'm really sorry to hear that you're feeling this way. \"\n",
        "            \"It's important to talk to someone who can help. Would you like to share with me?\"\n",
        "        )\n",
        "        messages.append({\"role\": \"assistant\", \"content\": bot_response})\n",
        "        print(\"Bot:\", bot_response)\n",
        "        continue\n",
        "\n",
        "    is_faq, topic = is_faq_query(user_input)\n",
        "    if is_faq:\n",
        "        bot_response = get_response(messages, use_faq_model=True)\n",
        "    else:\n",
        "        bot_response = get_response(messages, use_faq_model=False)\n",
        "    messages.append({\"role\": \"assistant\", \"content\": bot_response})\n",
        "    print(\"Bot:\", bot_response)\n",
        "\n",
        "\n",
        "\n",
        "\n",
        "\n",
        "\n",
        "\n"
      ],
      "metadata": {
        "id": "CaJb7lqDyjyc"
      },
      "execution_count": null,
      "outputs": []
    }
  ]
}